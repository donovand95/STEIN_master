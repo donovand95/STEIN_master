{
 "cells": [
  {
   "cell_type": "code",
   "execution_count": 1,
   "metadata": {},
   "outputs": [],
   "source": [
    "import numpy as np\n",
    "import time \n",
    "import matplotlib.pyplot as plt\n",
    "from scipy.interpolate import interp1d, interp2d\n",
    "from scipy import linalg\n",
    "from jupyterthemes import jtplot"
   ]
  },
  {
   "cell_type": "code",
   "execution_count": 3,
   "metadata": {},
   "outputs": [],
   "source": [
    "dat_lin = np.arange(0,max_depth[0] + 1,1)"
   ]
  },
  {
   "cell_type": "code",
   "execution_count": 19,
   "metadata": {},
   "outputs": [],
   "source": [
    "def He3_temps(MAT, T_AMP, dat_lin):\n",
    "    %run C:\\Users\\dennis\\STEIN_codes\\helium\\He_3_after_Tremblay.ipynb\n",
    "    %run C:\\Users\\dennis\\STEIN_codes\\temperature\\new_crank_nicolson_fixed.ipynb\n",
    "        \n",
    "    T0 = Temp_fun(MAT, T_AMP, dat_lin, (1/thermnt))\n",
    "    EDT_import = EDT_calculation(MAT, T_AMP, T0)\n",
    "    EDT_trnsfrm = interp1d(x = EDT_import[5], y = EDT_import[3], \n",
    "                        kind = 'cubic',\n",
    "                        fill_value = \"extrapolate\")\n",
    "    EDT_z = EDT_trnsfrm(x = dat_lin)\n",
    "    \n",
    "    return EDT_z"
   ]
  },
  {
   "cell_type": "code",
   "execution_count": 25,
   "metadata": {},
   "outputs": [],
   "source": [
    "def He3_fxn(grain_conc, EDT_z):\n",
    "        \n",
    "    He3P0 = SLHL_He3 * np.exp(-mu * dat_lin)\n",
    "    grain_conc = [MT_He_3(He3P0[i], grain_conc[i], x, 1, dx, EDT_z[i], nx) for i in range(0,len(dat_lin))]\n",
    "\n",
    "    return grain_conc"
   ]
  },
  {
   "cell_type": "code",
   "execution_count": 1,
   "metadata": {},
   "outputs": [],
   "source": [
    "def He3_loop_fxn(total_time, time_ER_shift):\n",
    "        %run C:\\Users\\dennis\\STEIN_codes\\helium\\He_3_after_Tremblay.ipynb\n",
    "        %run C:\\Users\\dennis\\STEIN_codes\\temperature\\new_crank_nicolson_fixed.ipynb\n",
    "        \n",
    "        conc3He = [[0]*nx] * len(dat_lin)\n",
    "        He_surf = np.empty((total_time,))\n",
    "        \n",
    "        start_time = time.time()\n",
    "        \n",
    "        EDT_z = He3_temps(MAT, T_AMP, dat_lin)\n",
    "        \n",
    "        for i in range(total_time):\n",
    "            conc3He = He3_fxn(conc3He, EDT_z)\n",
    "            He_surf[i] = np.average([np.average(conc3He[i], weights = shell_mass) for i in range(6)])\n",
    "            \n",
    "        if save_output == True:\n",
    "            np.savetxt('NE_He3_ER0.0_surfmat.csv',\n",
    "                       He_surf,\n",
    "                       delimiter = ',')\n",
    "                \n",
    "        return conc3He, He_surf"
   ]
  }
 ],
 "metadata": {
  "kernelspec": {
   "display_name": "Python 3",
   "language": "python",
   "name": "python3"
  },
  "language_info": {
   "codemirror_mode": {
    "name": "ipython",
    "version": 3
   },
   "file_extension": ".py",
   "mimetype": "text/x-python",
   "name": "python",
   "nbconvert_exporter": "python",
   "pygments_lexer": "ipython3",
   "version": "3.7.1"
  }
 },
 "nbformat": 4,
 "nbformat_minor": 2
}
