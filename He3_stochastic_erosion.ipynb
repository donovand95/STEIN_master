{
 "cells": [
  {
   "cell_type": "code",
   "execution_count": 2,
   "metadata": {},
   "outputs": [],
   "source": [
    "import numpy as np\n",
    "import pandas as pd\n",
    "from scipy.interpolate import interp1d, interp2d\n",
    "from scipy import linalg\n",
    "import matplotlib.pyplot as plt\n",
    "import random\n",
    "from IPython.display import display, clear_output\n",
    "from jupyterthemes import jtplot\n",
    "import time\n",
    "import scipy as scipy\n",
    "import csv\n",
    "\n",
    "jtplot.style(theme = 'gruvboxd')"
   ]
  },
  {
   "cell_type": "code",
   "execution_count": 19,
   "metadata": {
    "code_folding": [
     0
    ]
   },
   "outputs": [],
   "source": [
    "# # simulation inputs \n",
    "# total_time = 100\n",
    "# gr_sz = 0.1\n",
    "# MAT = -5\n",
    "# T_AMP = 7\n",
    "# SLHL_C14 = 15.1\n",
    "# SLHL_Be10 = 5.01\n",
    "# SLHL_He3 = 114\n",
    "# scaling_factor = 1\n",
    "# save_output = True\n",
    "\n",
    "# # erosion inputs\n",
    "# scenarios = 3"
   ]
  },
  {
   "cell_type": "code",
   "execution_count": 4,
   "metadata": {
    "code_folding": [
     0
    ]
   },
   "outputs": [],
   "source": [
    "# # CN production inputs\n",
    "# He_depth = max_depth[0]\n",
    "# rock_rho = 2.7\n",
    "# CN_lambda = 160\n",
    "# mu = rock_rho / CN_lambda\n",
    "# dt = 1\n",
    "\n",
    "# # He diffusion inputs\n",
    "# rho = 2.65 # quartz density\n",
    "# nx = 100\n",
    "# r = gr_sz\n",
    "# dx = (r / nx)\n",
    "# x = np.arange(dx/2, r, dx)\n",
    "# x_up = x + (dx/2)\n",
    "# x_low = x - (dx/2)\n",
    "# x_vol = [(4/3 * np.pi * x_up[i]**3) - (4/3 * np.pi * x_low[i]**3) for i in range(len(x))]\n",
    "# shell_mass = [(x_vol[i] * rho) for i in range(len(x_vol))]\n",
    "\n",
    "# # Bedrock thermal properties\n",
    "# alpha = 1.5e-6"
   ]
  },
  {
   "cell_type": "code",
   "execution_count": null,
   "metadata": {},
   "outputs": [],
   "source": []
  },
  {
   "cell_type": "code",
   "execution_count": 5,
   "metadata": {
    "code_folding": [
     0
    ]
   },
   "outputs": [],
   "source": [
    "def rockfalls_import():\n",
    "    read_in = open('D:/STEIN_paper/model_outputs/stochastic_erosion/erosion_sets/import_dates.csv')\n",
    "    myreader = csv.reader(read_in)\n",
    "    rockfall_mat = np.empty((total_time, scenarios))\n",
    "    \n",
    "    for row in myreader:\n",
    "        mat_gen_dates = row[:]\n",
    "    \n",
    "    rockfall_mat = np.genfromtxt('D:/STEIN_paper/model_outputs/stochastic_erosion/erosion_sets/rockfall_matrix_' + str(stoch_base_ER) + '_' + str(mat_gen_dates[-1]) + '.csv',\n",
    "                                  delimiter = ',')\n",
    "    ERs = np.genfromtxt('D:/STEIN_paper/model_outputs/stochastic_erosion/erosion_sets/ER_list_' + str(stoch_base_ER) + '_' + str(mat_gen_dates[-1]) + '.csv',\n",
    "                                  delimiter = ',')\n",
    "        \n",
    "    return rockfall_mat, ERs"
   ]
  },
  {
   "cell_type": "code",
   "execution_count": 2,
   "metadata": {
    "code_folding": [
     0
    ]
   },
   "outputs": [],
   "source": [
    "def He3_temps(MAT, T_AMP, dat_lin):\n",
    "    dat_lin = dat_lin\n",
    "        \n",
    "    T0 = Temp_fun(MAT, T_AMP, dat_lin, (1/thermnt))\n",
    "    EDT_import = EDT_calculation(MAT, T_AMP, T0)\n",
    "    EDT_trnsfrm = interp1d(x = EDT_import[5], y = EDT_import[3], \n",
    "                        kind = 'linear',\n",
    "                        fill_value = \"extrapolate\")\n",
    "    EDT_z = EDT_trnsfrm(x = dat_lin)\n",
    "    \n",
    "    return EDT_z"
   ]
  },
  {
   "cell_type": "code",
   "execution_count": 7,
   "metadata": {
    "code_folding": [
     0
    ]
   },
   "outputs": [],
   "source": [
    "def He3_fxn(grain_conc, EDT_z, rockfall_mat, dat_lin):\n",
    "    \n",
    "    fall_thickness = rockfall_mat[0]    \n",
    "    He3P0 = SLHL_He3 * np.exp(-mu * dat_lin)\n",
    "    grain_conc = [MT_He_3(He3P0[i], grain_conc[i], x, 1, dx, EDT_z[i], nx) for i in range(len(dat_lin))] \n",
    "\n",
    "    depths = dat_lin[dat_lin > fall_thickness]\n",
    "    \n",
    "    first_fxn = interp2d(x = range(0,nx), \n",
    "                         y = dat_lin, \n",
    "                         z = np.stack(grain_conc), \n",
    "                         kind = 'linear')    \n",
    "    \n",
    "    first_data = first_fxn(x = range(0,nx), y = dat_lin)\n",
    "    \n",
    "    second_fxn = interp2d(x = range(0,nx), \n",
    "                          y = (dat_lin - fall_thickness), \n",
    "                          z = np.stack(first_data), \n",
    "                          kind = 'linear') \n",
    "    \n",
    "    grain_conc = second_fxn(x = range(0,nx), y = dat_lin)\n",
    "    \n",
    "    return grain_conc"
   ]
  },
  {
   "cell_type": "code",
   "execution_count": 4,
   "metadata": {
    "code_folding": []
   },
   "outputs": [],
   "source": [
    "def He3_loop_fxn(total_time):\n",
    "    dat_lin = np.arange(0,max_depth[0] + 1,1)\n",
    "    \n",
    "    %run C:\\Users\\dennis\\STEIN_codes\\helium\\He_3_after_Tremblay.ipynb\n",
    "    %run C:\\Users\\dennis\\STEIN_codes\\temperature\\new_crank_nicolson_fixed.ipynb\n",
    "    \n",
    "    all_rockfalls, ERs = rockfalls_import()\n",
    "    \n",
    "    EDT_z = He3_temps(MAT, T_AMP, dat_lin)\n",
    "    He_surf_mat = np.empty((total_time,scenarios))\n",
    "    \n",
    "    for i in range(scenarios):\n",
    "        conc3He = [[0]*nx] * len(dat_lin)\n",
    "        He_surf = np.empty((total_time,))\n",
    "        \n",
    "        \n",
    "        year_falls = all_rockfalls[:,i]\n",
    "        rockfall_plot = year_falls\n",
    "        ER = ERs[i]\n",
    "    \n",
    "        for j in range(total_time):\n",
    "            conc3He = He3_fxn(conc3He, EDT_z, year_falls, dat_lin)\n",
    "            He_surf[j] = np.average([np.average(conc3He[i], weights = shell_mass) for i in range(6)])\n",
    "        \n",
    "        He_surf_mat[:,i] = He_surf\n",
    "        \n",
    "        print('Main He3 loop scenario ' + str(j) + 'complete.')\n",
    "        \n",
    "        if save_output == True:\n",
    "            np.savetxt('D:/STEIN_paper/model_outputs/stochastic_erosion/STO_He3_ER' + str(ER) + '_surfmat.csv', \n",
    "                           He_surf,\n",
    "                           delimiter = ',')\n",
    "    \n",
    "    return He_surf, He_surf_mat"
   ]
  }
 ],
 "metadata": {
  "kernelspec": {
   "display_name": "Python 3",
   "language": "python",
   "name": "python3"
  },
  "language_info": {
   "codemirror_mode": {
    "name": "ipython",
    "version": 3
   },
   "file_extension": ".py",
   "mimetype": "text/x-python",
   "name": "python",
   "nbconvert_exporter": "python",
   "pygments_lexer": "ipython3",
   "version": "3.7.1"
  }
 },
 "nbformat": 4,
 "nbformat_minor": 2
}
