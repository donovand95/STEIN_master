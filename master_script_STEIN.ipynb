{
 "cells": [
  {
   "cell_type": "code",
   "execution_count": 34,
   "metadata": {},
   "outputs": [],
   "source": [
    "import numpy as np\n",
    "import pandas as pd\n",
    "from scipy.interpolate import interp1d, interp2d\n",
    "from scipy import linalg\n",
    "import matplotlib.pyplot as plt\n",
    "import random\n",
    "from IPython.display import display, clear_output\n",
    "from ipywidgets import widgets, Layout, interact, interactive, fixed, interact_manual\n",
    "from jupyterthemes import jtplot\n",
    "import time\n",
    "import scipy as scipy\n",
    "import csv\n",
    "# import cufflinks as cf \n",
    "# import plotly.offline as py\n",
    "\n",
    "# cf.go_offline()\n",
    "# cf.set_config_file(offline=False, world_readable=True)\n"
   ]
  },
  {
   "cell_type": "code",
   "execution_count": 47,
   "metadata": {
    "code_folding": [
     0
    ]
   },
   "outputs": [
    {
     "name": "stdout",
     "output_type": "stream",
     "text": [
      "Select an erosion type for the simulation.\n"
     ]
    },
    {
     "data": {
      "application/vnd.jupyter.widget-view+json": {
       "model_id": "904f99cefa56413d86702ebecc5ff53c",
       "version_major": 2,
       "version_minor": 0
      },
      "text/plain": [
       "Dropdown(description='Erosion type:', options=(('Stochastic Rockfalls', 'stochastic'), ('Steady-state', 'const…"
      ]
     },
     "metadata": {},
     "output_type": "display_data"
    },
    {
     "name": "stdout",
     "output_type": "stream",
     "text": [
      "Input total time length (years) for individual simulations. \n",
      "Max = 150000 \n",
      "Min = 10\n"
     ]
    },
    {
     "data": {
      "application/vnd.jupyter.widget-view+json": {
       "model_id": "7af4cd96300b4d2ba1f14e5c975176ea",
       "version_major": 2,
       "version_minor": 0
      },
      "text/plain": [
       "BoundedIntText(value=100, description='Total time:', max=150000, min=10)"
      ]
     },
     "metadata": {},
     "output_type": "display_data"
    },
    {
     "name": "stdout",
     "output_type": "stream",
     "text": [
      "Select a C-14 sea level high latitude production rate. \n",
      "Author et al. (2016) (14.1) is recommended.\n"
     ]
    },
    {
     "data": {
      "application/vnd.jupyter.widget-view+json": {
       "model_id": "1270e017f82c452482544c2c492d3b08",
       "version_major": 2,
       "version_minor": 0
      },
      "text/plain": [
       "Dropdown(description='$^{14}$C Production Rate:', options=(('14.1 \\t (Author et al. (2010)', 14.1), ('13.2 \\t …"
      ]
     },
     "metadata": {},
     "output_type": "display_data"
    },
    {
     "name": "stdout",
     "output_type": "stream",
     "text": [
      "Select a Be-10 sea level high latitude production rate. \n",
      "Author et al. (2016) (4.1) is recommended.\n"
     ]
    },
    {
     "data": {
      "application/vnd.jupyter.widget-view+json": {
       "model_id": "ad2c447c1c14417aac4f5acfa1a0d60a",
       "version_major": 2,
       "version_minor": 0
      },
      "text/plain": [
       "Dropdown(description='$^{10}$Be Production Rate:', options=(('4.1 \\t (Author et al. (2010)', 4.1), ('3.95 \\t (…"
      ]
     },
     "metadata": {},
     "output_type": "display_data"
    },
    {
     "name": "stdout",
     "output_type": "stream",
     "text": [
      "Select a He-3 sea level high latitude production rate. \n",
      "Author et al. (2010) (120.5) is recommended.\n"
     ]
    },
    {
     "data": {
      "application/vnd.jupyter.widget-view+json": {
       "model_id": "522bd998f8384c95bc76a9dd088f440b",
       "version_major": 2,
       "version_minor": 0
      },
      "text/plain": [
       "Dropdown(description='$^{3}$He Production Rate:', index=1, options=(('114.2 \\t (Author et al. (2010)', 114.2),…"
      ]
     },
     "metadata": {},
     "output_type": "display_data"
    },
    {
     "name": "stdout",
     "output_type": "stream",
     "text": [
      "Input cosmogenic nuclide production rate scaling factor. \n",
      "For SLHL, enter 1.\n"
     ]
    },
    {
     "data": {
      "application/vnd.jupyter.widget-view+json": {
       "model_id": "2bd128ce2faa44e6815ac2a4878d22ee",
       "version_major": 2,
       "version_minor": 0
      },
      "text/plain": [
       "BoundedFloatText(value=1.1, description='CN scaling factor: \\t', max=900.0, min=1e-07, step=0.1, style=Descrip…"
      ]
     },
     "metadata": {},
     "output_type": "display_data"
    },
    {
     "name": "stdout",
     "output_type": "stream",
     "text": [
      "Input the mean grain size of the quartz used for He-3 measurements.\n"
     ]
    },
    {
     "data": {
      "application/vnd.jupyter.widget-view+json": {
       "model_id": "4af6130dd1cb4f47bb893aea6aba9eeb",
       "version_major": 2,
       "version_minor": 0
      },
      "text/plain": [
       "BoundedFloatText(value=0.1, description='Quartz grain size', max=2.0, min=0.08, step=0.01, style=DescriptionSt…"
      ]
     },
     "metadata": {},
     "output_type": "display_data"
    },
    {
     "name": "stdout",
     "output_type": "stream",
     "text": [
      "Input a mean annual temperature for the simulations.\n"
     ]
    },
    {
     "data": {
      "application/vnd.jupyter.widget-view+json": {
       "model_id": "2bc22a115efd438a9c2ec9b5a2a9178a",
       "version_major": 2,
       "version_minor": 0
      },
      "text/plain": [
       "BoundedFloatText(value=0.0, description='Mean annual temperature (0 $\\\\circ$C)', max=15.0, min=-50.0, step=0.5…"
      ]
     },
     "metadata": {},
     "output_type": "display_data"
    },
    {
     "name": "stdout",
     "output_type": "stream",
     "text": [
      "Input an amplitude for the seasonal temperature function. \n",
      "Amplitude of 5.0 for MAT = 0.0 indicates mean summer temperature of +5.0 C and mean winter temperature of -5.0 C.\n"
     ]
    },
    {
     "data": {
      "application/vnd.jupyter.widget-view+json": {
       "model_id": "1827eae390ae46e6b19794e1ad39c827",
       "version_major": 2,
       "version_minor": 0
      },
      "text/plain": [
       "BoundedFloatText(value=5.0, description='Temperature seasonality', max=35.0, min=0.5, step=0.5, style=Descript…"
      ]
     },
     "metadata": {},
     "output_type": "display_data"
    },
    {
     "name": "stdout",
     "output_type": "stream",
     "text": [
      "Would you like to save the output files?\n"
     ]
    },
    {
     "data": {
      "application/vnd.jupyter.widget-view+json": {
       "model_id": "b7bcc63d755d4901a652868e18793546",
       "version_major": 2,
       "version_minor": 0
      },
      "text/plain": [
       "Dropdown(description='Save Output', index=1, options=(('Yes', True), ('No', False)), value=False)"
      ]
     },
     "metadata": {},
     "output_type": "display_data"
    }
   ],
   "source": [
    "# Input the initial variables:\n",
    "style = {'description_width' : 'initial'}\n",
    "erosion_type = widgets.Dropdown(options = [('Stochastic Rockfalls', 'stochastic'),\n",
    "                                           ('Steady-state', 'constant'),\n",
    "                                           ('No Erosion', 'none')],\n",
    "                                value='stochastic',\n",
    "                                description='Erosion type:',\n",
    "                                style = style)\n",
    "\n",
    "print('Select an erosion type for the simulation.')\n",
    "display(erosion_type)\n",
    "\n",
    "total_time = widgets.BoundedIntText(value = 100,\n",
    "                                   min = 10,\n",
    "                                   max = 150000,\n",
    "                                   description = \"Total time:\")\n",
    "\n",
    "print('Input total time length (years) for individual simulations. \\nMax = 150000 \\nMin = 10')\n",
    "display(total_time)\n",
    "\n",
    "SLHL_C14 = widgets.Dropdown(options=[('14.1 \\t (Author et al. (2010)', 14.1),\n",
    "                                      ('13.2 \\t (Author et al. (1992)', 13.2),\n",
    "                                      ('12.1 \\t (Author et al. (1999)', 12.1)],\n",
    "                           value=14.1,\n",
    "                           description='$^{14}$C Production Rate:',\n",
    "                           style = style)\n",
    "print('Select a C-14 sea level high latitude production rate. \\nAuthor et al. (2016) (14.1) is recommended.')\n",
    "display(SLHL_C14)\n",
    "\n",
    "SLHL_Be10 = widgets.Dropdown(options=[('4.1 \\t (Author et al. (2010)', 4.1),\n",
    "                                      ('3.95 \\t (Author et al. (1992)', 3.95),\n",
    "                                      ('3.8 \\t (Author et al. (1999)', 3.8)],\n",
    "                           value=4.1,\n",
    "                           description='$^{10}$Be Production Rate:',\n",
    "                           style = style)\n",
    "print('Select a Be-10 sea level high latitude production rate. \\nAuthor et al. (2016) (4.1) is recommended.')\n",
    "display(SLHL_Be10)\n",
    "\n",
    "SLHL_He3 = widgets.Dropdown(options=[('114.2 \\t (Author et al. (2010)', 114.2),\n",
    "                                      ('120.5 \\t (Author et al. (1992)', 120.5),\n",
    "                                      ('132.4 \\t (Author et al. (1999)', 132.4)],\n",
    "                           value=120.5,\n",
    "                           description='$^{3}$He Production Rate:',\n",
    "                           style = style)\n",
    "print('Select a He-3 sea level high latitude production rate. \\nAuthor et al. (2010) (120.5) is recommended.')\n",
    "display(SLHL_He3)\n",
    "\n",
    "scaling_factor = widgets.BoundedFloatText(value = 1.1,\n",
    "                                min = 0.0000001,\n",
    "                                max = 900.0,\n",
    "                                step = 0.1, \n",
    "                                description = \"CN scaling factor: \\t\",\n",
    "                                style = style)\n",
    "print('Input cosmogenic nuclide production rate scaling factor. \\nFor SLHL, enter ' + str('1') + '.')\n",
    "display(scaling_factor)\n",
    "\n",
    "gr_sz = widgets.BoundedFloatText(value = 0.1,\n",
    "                                min = 0.08,\n",
    "                                max = 2.0,\n",
    "                                step = 0.01, \n",
    "                                description = \"Quartz grain size\",\n",
    "                                style = style)\n",
    "print('Input the mean grain size of the quartz used for He-3 measurements.')\n",
    "display(gr_sz)\n",
    "\n",
    "MAT = widgets.BoundedFloatText(value = 0.0,\n",
    "                                min = -50.0,\n",
    "                                max = 15.0,\n",
    "                                step = 0.5, \n",
    "                                description = \"Mean annual temperature (0 $\\circ$C)\",\n",
    "                                style = style)\n",
    "print('Input a mean annual temperature for the simulations.')\n",
    "display(MAT)\n",
    "\n",
    "T_AMP=widgets.BoundedFloatText(value=5.0,\n",
    "                                min=0.5,\n",
    "                                max=35.0,\n",
    "                                step=0.5, \n",
    "                                description = \"Temperature seasonality\",\n",
    "                                style = style)\n",
    "print('Input an amplitude for the seasonal temperature function. \\nAmplitude of 5.0 for MAT = 0.0 indicates mean summer temperature of +5.0 C and mean winter temperature of -5.0 C.')\n",
    "display(T_AMP)\n",
    "\n",
    "save_output = widgets.Dropdown(options = [('Yes', True), ('No',False)],\n",
    "                              value = False,\n",
    "                              description = 'Save Output')\n",
    "print('Would you like to save the output files?')\n",
    "display(save_output)\n",
    "\n",
    "save_only_surf = True"
   ]
  },
  {
   "cell_type": "code",
   "execution_count": 48,
   "metadata": {
    "code_folding": [
     0,
     2
    ]
   },
   "outputs": [
    {
     "name": "stdout",
     "output_type": "stream",
     "text": [
      "Input number of stochastic erosion scenarios. \n",
      "Max = 30 \n",
      "Min = 1\n"
     ]
    },
    {
     "data": {
      "application/vnd.jupyter.widget-view+json": {
       "model_id": "77227689d1864db5940780d60b8bb173",
       "version_major": 2,
       "version_minor": 0
      },
      "text/plain": [
       "BoundedIntText(value=2, description='Scenarios:', max=30, min=1, style=DescriptionStyle(description_width='ini…"
      ]
     },
     "metadata": {},
     "output_type": "display_data"
    },
    {
     "name": "stdout",
     "output_type": "stream",
     "text": [
      "Input the time-averaged erosion rate (total lost / total time).\n"
     ]
    },
    {
     "data": {
      "application/vnd.jupyter.widget-view+json": {
       "model_id": "44d8c55e2cd649f6aebfebfa9890b4f3",
       "version_major": 2,
       "version_minor": 0
      },
      "text/plain": [
       "BoundedFloatText(value=0.1, description='Base Erosion Rate (cm yr$^{-1}$:', max=349.0, min=1e-05, style=Descri…"
      ]
     },
     "metadata": {},
     "output_type": "display_data"
    },
    {
     "name": "stdout",
     "output_type": "stream",
     "text": [
      "Input the number of sub-samples you would like to base the CN measurements on for each stochastic sample. These concentrations are selected from random times in the model run, as in a \"time for space\" substition.\n"
     ]
    },
    {
     "data": {
      "application/vnd.jupyter.widget-view+json": {
       "model_id": "8424e8d00f5249fdb63ad13cc0a84ba8",
       "version_major": 2,
       "version_minor": 0
      },
      "text/plain": [
       "BoundedIntText(value=30, description='No. of Sub-samples:', max=24999, min=2, style=DescriptionStyle(descripti…"
      ]
     },
     "metadata": {},
     "output_type": "display_data"
    }
   ],
   "source": [
    "# Input the case-dependent variables:\n",
    "if erosion_type.value == 'stochastic':\n",
    "    scenarios = widgets.BoundedIntText(value = 2,\n",
    "                                   min = 1,\n",
    "                                   max = 30,\n",
    "                                   description = 'Scenarios:',\n",
    "                                   style = style)\n",
    "    print('Input number of stochastic erosion scenarios. \\nMax = 30 \\nMin = 1')\n",
    "    display(scenarios)\n",
    "    \n",
    "    stoch_base_ER = widgets.BoundedFloatText(value = 0.1,\n",
    "                                   min = 0.00001,\n",
    "                                   max = 349.0,\n",
    "                                   description = 'Base Erosion Rate (cm yr$^{-1}$:',\n",
    "                                   style = style)\n",
    "    print('Input the time-averaged erosion rate (total lost / total time).')\n",
    "    display(stoch_base_ER)\n",
    "    \n",
    "    sample_no = widgets.BoundedIntText(value = 30,\n",
    "                                      min = 2,\n",
    "                                      max = (total_time.value - 1),\n",
    "                                      description = 'No. of Sub-samples:',\n",
    "                                      style = style)\n",
    "    print('Input the number of sub-samples you would like to base the CN measurements on for each stochastic sample. These concentrations are selected from random times in the model run, as in a \"time for space\" substition.') \n",
    "    display(sample_no)\n",
    "    \n",
    "\n",
    "if erosion_type.value == 'constant':\n",
    "    erosion_rate = widgets.FloatText(value = 0.1,\n",
    "                                     min = 0.001,\n",
    "                                     max = 350,\n",
    "                                     description = 'Erosion Rate (cm yr$^{-1}$)',\n",
    "                                    style = style)\n",
    "    print('Input the steady-state erosion rate.')\n",
    "    display(erosion_rate)\n",
    "\n",
    "    shift_ER = widgets.Dropdown(options = [('Yes', True), ('No', False)],\n",
    "                               value = False,\n",
    "                               description = 'Change erosion rate mid-simulation?',\n",
    "                               style = style)\n",
    "\n",
    "    print('Would you like to change the erosion rate during the simulation? This will be a step-function change at a specific time.')  \n",
    "    display(shift_ER)\n",
    "\n",
    "    time_ER_shift = widgets.BoundedIntText(value = int(0.5 * total_time.value),\n",
    "                                          min = 0,\n",
    "                                          max = (total_time.value - 1),\n",
    "                                          description = 'Time for rate change:',\n",
    "                                          style = style)\n",
    "    new_ER = widgets.BoundedFloatText(value = 0.1,\n",
    "                                      min = 0.0000001,\n",
    "                                      max = 349,\n",
    "                                      description = 'New erosion rate (cm yr$^{-1}$)',\n",
    "                                     style = style)\n",
    "    print('If you will change the erosion rate, please input the year of the time change and the new erosion rate.')\n",
    "    display(time_ER_shift)\n",
    "    display(new_ER)"
   ]
  },
  {
   "cell_type": "code",
   "execution_count": 49,
   "metadata": {
    "code_folding": [
     0,
     4,
     33,
     55,
     59
    ]
   },
   "outputs": [],
   "source": [
    "def get_values(widget):\n",
    "    out_val = widget.value\n",
    "    return out_val\n",
    "\n",
    "def adv_values():\n",
    "    # more values setting\n",
    "    max_depth = [350, 1500]\n",
    "    rock_rho = 2.7\n",
    "    CN_lambda = 160\n",
    "    mu = rock_rho / CN_lambda\n",
    "    dt = 1\n",
    "\n",
    "    # He diffusion inputs\n",
    "    rho = 2.65 # quartz density\n",
    "    nx = 100\n",
    "    r = gr_sz.value\n",
    "    dx = (r / nx)\n",
    "    x = np.arange(dx/2, r, dx)\n",
    "    x_up = x + (dx/2)\n",
    "    x_low = x - (dx/2)\n",
    "    x_vol = [(4/3 * np.pi * x_up[i]**3) - (4/3 * np.pi * x_low[i]**3) for i in range(len(x))]\n",
    "    shell_mass = [(x_vol[i] * rho) for i in range(len(x_vol))]\n",
    "\n",
    "    # Bedrock thermal properties\n",
    "    alpha = 1.5e-6\n",
    "    \n",
    "    P0_Be10 = SLHL_Be10.value * scaling_factor.value\n",
    "    P0_He3 = SLHL_He3.value * scaling_factor.value\n",
    "    \n",
    "    adv_list = [max_depth, rock_rho, CN_lambda, mu, dt, rho, nx, r, dx, x, x_up, x_low, x_vol, shell_mass, alpha, P0_Be10, P0_He3] \n",
    "    \n",
    "    return adv_list\n",
    "\n",
    "def set_values():\n",
    "    var_list = [erosion_type, total_time, SLHL_C14, SLHL_Be10, SLHL_He3,\n",
    "                scaling_factor, gr_sz, MAT, T_AMP, save_output]\n",
    "    set_list = [get_values(var_list[i]) for i in range(len(var_list))]\n",
    "    \n",
    "    more_values = adv_values()\n",
    "    \n",
    "    if set_list[0] == 'stochastic':\n",
    "        set_list.append(get_values(scenarios))\n",
    "        set_list.append(get_values(stoch_base_ER))\n",
    "        set_list.append(get_values(sample_no))\n",
    "        set_list.extend(more_values)\n",
    "    \n",
    "    if set_list[0] =='constant':\n",
    "        set_list.append(get_values(erosion_rate))\n",
    "        set_list.append(get_values(shift_ER))\n",
    "        set_list.append(get_values(time_ER_shift))\n",
    "        set_list.append(get_values(new_ER) / get_values(erosion_rate))\n",
    "        set_list.extend(more_values)\n",
    "        \n",
    "    return set_list\n",
    "\n",
    "def post_process(CRN_output, He3_output):\n",
    "    \n",
    "    He3_percent_mat = np.empty((total_time, scenarios))\n",
    "    \n",
    "    for i in range(scenarios):\n",
    "        He3_percent_mat[:,i] = np.divide(He3_output[1][:,i], CRN_output[1][:,1,i]) * P0_Be10 / P0_He3\n",
    "    \n",
    "    master_array = np.empty((total_time, 11, scenarios))\n",
    "    \n",
    "    for i in range(scenarios):\n",
    "        master_array[:,:3,i] = CRN_output[1][:,:,i]\n",
    "        master_array[:,3,i] = He3_output[1][:,i]\n",
    "        master_array[:,4,i] = He3_percent_mat[:,i]\n",
    "        master_array[:,5,i] = rockfall_output[:,i]\n",
    "        master_array[:,6:,i] = comparison_constants[:,:,i]\n",
    "\n",
    "    master_df = [pd.DataFrame(data = master_array[:,:,i],\n",
    "                index = np.arange(0,total_time,1),\n",
    "                columns = ['C-14 Conc. Stoch', \n",
    "                           'Be-10 Conc. Stoch', \n",
    "                           'C-14/Be-10 Ratio Stoch',\n",
    "                           'He-3 Conc. Stoch',\n",
    "                           'Perc. He-3 Stoch',\n",
    "                           'Rockfall Size',\n",
    "                           'C-14 Conc. Constant',\n",
    "                           'Be-10 Conc. Constant',\n",
    "                           'C-14/Be-10 Ratio Constant',\n",
    "                           'He-3Conc. Constant',\n",
    "                           'Perc. He-3 Constant']) for i in range(scenarios)]\n",
    "\n",
    "    \n",
    "    return master_array, master_df\n"
   ]
  },
  {
   "cell_type": "code",
   "execution_count": null,
   "metadata": {
    "code_folding": [
     40
    ]
   },
   "outputs": [
    {
     "name": "stderr",
     "output_type": "stream",
     "text": [
      "C:\\Users\\dennis\\Anaconda3\\lib\\site-packages\\ipykernel_launcher.py:17: RuntimeWarning:\n",
      "\n",
      "invalid value encountered in true_divide\n",
      "\n"
     ]
    },
    {
     "name": "stdout",
     "output_type": "stream",
     "text": [
      "Comparison Be10 / C14 loop scenario 24999complete.\n",
      "Comparison He3 loop scenario 24999complete.\n"
     ]
    },
    {
     "name": "stderr",
     "output_type": "stream",
     "text": [
      "C:\\Users\\dennis\\Anaconda3\\lib\\site-packages\\ipykernel_launcher.py:17: RuntimeWarning:\n",
      "\n",
      "invalid value encountered in true_divide\n",
      "\n"
     ]
    },
    {
     "name": "stdout",
     "output_type": "stream",
     "text": [
      "Comparison Be10 / C14 loop scenario 24999complete.\n",
      "Comparison He3 loop scenario 24999complete.\n"
     ]
    },
    {
     "name": "stderr",
     "output_type": "stream",
     "text": [
      "C:\\Users\\dennis\\Anaconda3\\lib\\site-packages\\ipykernel_launcher.py:17: RuntimeWarning:\n",
      "\n",
      "invalid value encountered in true_divide\n",
      "\n"
     ]
    },
    {
     "name": "stdout",
     "output_type": "stream",
     "text": [
      "Comparison Be10 / C14 loop scenario 24999complete.\n",
      "Comparison He3 loop scenario 24999complete.\n"
     ]
    },
    {
     "name": "stderr",
     "output_type": "stream",
     "text": [
      "C:\\Users\\dennis\\Anaconda3\\lib\\site-packages\\ipykernel_launcher.py:17: RuntimeWarning:\n",
      "\n",
      "invalid value encountered in true_divide\n",
      "\n"
     ]
    },
    {
     "name": "stdout",
     "output_type": "stream",
     "text": [
      "Comparison Be10 / C14 loop scenario 24999complete.\n",
      "Comparison He3 loop scenario 24999complete.\n"
     ]
    }
   ],
   "source": [
    "if get_values(erosion_type) == 'stochastic':\n",
    "    [erosion_type, \n",
    "     total_time, \n",
    "     SLHL_C14, \n",
    "     SLHL_Be10,\n",
    "     SLHL_He3, \n",
    "     scaling_factor, \n",
    "     gr_sz, MAT, T_AMP, \n",
    "     save_output,\n",
    "     scenarios,\n",
    "     stoch_base_ER, sample_no,\n",
    "     max_depth, \n",
    "     rock_rho, \n",
    "     CN_lambda, \n",
    "     mu, dt, rho, \n",
    "     nx, r, dx, x, \n",
    "     x_up, x_low, \n",
    "     x_vol, shell_mass, \n",
    "     alpha, P0_Be10, P0_He3] = [set_values()[i] for i in range(len(set_values()))]\n",
    "    \n",
    "    # %run D:\\STEIN_paper\\model_outputs\\scripts\\rockfall_generation_stochastic_erosion.ipynb\n",
    "    \n",
    "    # rockfall_matrix_gen(stoch_base_ER)\n",
    "    # rockfall_output = erosion_export(stoch_base_ER)\n",
    "    \n",
    "   #  %run D:\\STEIN_paper\\model_outputs\\scripts\\C14_Be10_stochastic_erosion.ipynb\n",
    "    \n",
    "    # rockfalls_imported = rockfalls_import()\n",
    "    # CRN_output = CRN_loop_fxn(total_time)\n",
    "    \n",
    "    # %run D:\\STEIN_paper\\model_outputs\\scripts\\He3_stochastic_erosion.ipynb\n",
    "    \n",
    "    # He3_output = He3_loop_fxn(total_time)\n",
    "    \n",
    "    %run D:\\STEIN_paper\\model_outputs\\scripts\\stochastic_measured_constants_CRN_loops.ipynb\n",
    "    \n",
    "    comparison_constants = compare_fxn()\n",
    "    \n",
    "    master_array, master_df = post_process(CRN_output, He3_output)\n",
    "    \n",
    "elif get_values(erosion_type) == 'constant':\n",
    "     \n",
    "    [erosion_type, \n",
    "     total_time, \n",
    "     SLHL_C14, \n",
    "     SLHL_Be10,\n",
    "     SLHL_He3, \n",
    "     scaling_factor, \n",
    "     gr_sz, MAT, T_AMP, \n",
    "     save_output, ER, \n",
    "     shift_ER, time_ER_shift,\n",
    "     ER_shift_factor,\n",
    "     max_depth, \n",
    "     rock_rho, \n",
    "     CN_lambda, \n",
    "     mu, dt, rho, \n",
    "     nx, r, dx, x, \n",
    "     x_up, x_low, \n",
    "     x_vol, shell_mass, \n",
    "     alpha, P0_Be10, P0_He3] = [set_values()[i] for i in range(len(set_values()))]    \n",
    "    \n",
    "    %run D:\\STEIN_paper\\model_outputs\\scripts\\C14_Be10_constant_erosion.ipynb\n",
    "    %run D:\\STEIN_paper\\model_outputs\\scripts\\He3_constant_erosion.ipynb"
   ]
  },
  {
   "cell_type": "code",
   "execution_count": null,
   "metadata": {},
   "outputs": [],
   "source": [
    "[plt.plot(x = np.arange(0,total_time,1), y = master_array[:,0,i]) for i in range(scenarios)]"
   ]
  },
  {
   "cell_type": "code",
   "execution_count": null,
   "metadata": {},
   "outputs": [],
   "source": [
    "[ax1.plot(x = np.arange(0,total_time,1), y = master_array[:,0,i]) for i in range(scenarios)]"
   ]
  },
  {
   "cell_type": "code",
   "execution_count": null,
   "metadata": {},
   "outputs": [],
   "source": [
    "\n",
    "\n",
    "\n",
    "\n",
    "\n",
    "\n",
    "\n",
    "\n",
    "\n",
    "\n",
    "\n",
    "\n",
    "\n",
    "\n",
    "\n",
    "\n",
    "\n",
    "\n",
    "@interact\n",
    "def scatter_plot(y1 = list(master_df[0].columns),\n",
    "                 y2 = list(master_df[0].columns)):\n",
    "\n",
    "    master_df[0].iplot(x = [np.arange(0,100,1)], y = [y1,y2])"
   ]
  },
  {
   "cell_type": "code",
   "execution_count": null,
   "metadata": {
    "code_folding": []
   },
   "outputs": [],
   "source": [
    "# master_array = np.empty((total_time, 11, scenarios))\n",
    "\n",
    "# for i in range(scenarios):\n",
    "#     master_array[:,:3,i] = CRN_output[1][:,:,i]\n",
    "#     master_array[:,3,i] = He3_output[1][:,i]\n",
    "#     master_array[:,4,i] = He3_percents(CRN_output, He3_output)[:,i]\n",
    "#     # master_df[:,5,i] = rockfall_output[:,i]\n",
    "#     master_array[:,6:,i] = comparison_constants[:,:,i]\n",
    "\n",
    "# master_df = [pd.DataFrame(data = master_array[:,:,i],\n",
    "#             index = np.arange(0,total_time,1),\n",
    "#             columns = ['C-14 Conc. Stoch', \n",
    "#                        'Be-10 Conc. Stoch', \n",
    "#                        'C-14/Be-10 Ratio Stoch',\n",
    "#                        'He-3 Conc. Stoch',\n",
    "#                        'Perc. He-3 Stoch',\n",
    "#                        'Rockfall Size',\n",
    "#                        'C-14 Conc. Constant',\n",
    "#                        'Be-10 Conc. Constant',\n",
    "#                        'C-14/Be-10 Ratio Constant',\n",
    "#                        'He-3Conc. Constant',\n",
    "#                        'Perc. He-3 Constant']) for i in range(scenarios)]"
   ]
  }
 ],
 "metadata": {
  "kernelspec": {
   "display_name": "Python 3",
   "language": "python",
   "name": "python3"
  },
  "language_info": {
   "codemirror_mode": {
    "name": "ipython",
    "version": 3
   },
   "file_extension": ".py",
   "mimetype": "text/x-python",
   "name": "python",
   "nbconvert_exporter": "python",
   "pygments_lexer": "ipython3",
   "version": "3.7.1"
  }
 },
 "nbformat": 4,
 "nbformat_minor": 2
}
