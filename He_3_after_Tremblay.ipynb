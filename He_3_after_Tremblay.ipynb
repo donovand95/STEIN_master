{
 "cells": [
  {
   "cell_type": "code",
   "execution_count": 2,
   "metadata": {},
   "outputs": [],
   "source": [
    "import numpy as np\n",
    "import matplotlib.pyplot as plt\n",
    "from scipy import linalg, integrate\n",
    "from scipy.interpolate import interp1d\n",
    "import math as math"
   ]
  },
  {
   "cell_type": "code",
   "execution_count": 56,
   "metadata": {},
   "outputs": [],
   "source": [
    "def MT_He_3(P0, u0, x, dt, dx, T, nx):    \n",
    "    \n",
    "    Ea = 84500\n",
    "    R = 8.3144\n",
    "\n",
    "    rho = 2.62\n",
    "    mu = 2.7/ 160\n",
    "    a = 0.043\n",
    "    alllnD0aa = 11.1\n",
    "    lnD0aa = alllnD0aa\n",
    "    lnD0aa = np.log(np.exp(lnD0aa) * a**2 / r**2)\n",
    "    D0 = np.exp(lnD0aa) * (60 * 60 * 24 * 365.25) * r**2\n",
    "    D = D0 * math.exp((-Ea / R) * (1 / T))    \n",
    "    \n",
    "    beta = (2.0 * dx**2) / (D * dt)\n",
    "    \n",
    "    A1 = np.multiply(np.diag(np.ones(nx)), (-2 -beta)) + np.diag(np.ones(nx-1), k = 1) + np.diag(np.ones(nx-1), k = -1)\n",
    "    A2 = np.multiply(np.diag(np.ones(nx)), (2 - beta)) - np.diag(np.ones(nx-1), k = 1) - np.diag(np.ones(nx-1), k = -1)\n",
    "    A1[0,0] = A1[0,0] - 1\n",
    "    A2[0,0] = A2[0,0] + 1 \n",
    "\n",
    "    unew = np.multiply(u0, x)\n",
    "    He_3_prod = np.multiply(P0,x) * beta * dt\n",
    "\n",
    "    b = A2 @ unew - He_3_prod\n",
    "\n",
    "    unew = np.linalg.solve(A1,b)\n",
    "    u0 = np.divide(unew, x)\n",
    "  \n",
    "    return u0"
   ]
  }
 ],
 "metadata": {
  "kernelspec": {
   "display_name": "Python 3",
   "language": "python",
   "name": "python3"
  },
  "language_info": {
   "codemirror_mode": {
    "name": "ipython",
    "version": 3
   },
   "file_extension": ".py",
   "mimetype": "text/x-python",
   "name": "python",
   "nbconvert_exporter": "python",
   "pygments_lexer": "ipython3",
   "version": "3.7.1"
  }
 },
 "nbformat": 4,
 "nbformat_minor": 2
}
