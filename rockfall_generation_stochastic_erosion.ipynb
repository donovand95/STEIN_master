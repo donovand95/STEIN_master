{
 "cells": [
  {
   "cell_type": "code",
   "execution_count": 2,
   "metadata": {},
   "outputs": [],
   "source": [
    "import numpy as np\n",
    "from scipy.interpolate import interp1d, interp2d\n",
    "from scipy import linalg\n",
    "import matplotlib.pyplot as plt\n",
    "import random\n",
    "from IPython.display import display, clear_output\n",
    "from jupyterthemes import jtplot\n",
    "import time\n",
    "import scipy as scipy\n",
    "import csv\n",
    "\n",
    "jtplot.style(theme = 'gruvboxd')"
   ]
  },
  {
   "cell_type": "code",
   "execution_count": 64,
   "metadata": {
    "code_folding": []
   },
   "outputs": [],
   "source": [
    "# # simulation inputs\n",
    "# total_time = 500\n",
    "# scenarios = 10\n",
    "# SLHL_C14 = 14.1\n",
    "# SLHL_Be10 = 4.01\n",
    "# scaling_factor = 1\n",
    "# save_output = True\n",
    "# save_only_surf = True\n",
    "# shift_ER = True\n",
    "\n",
    "# stoch_base_ER = 0.1\n",
    "# initial_ER = (1.0)\n",
    "# time_ER_shift = 7\n",
    "# ER_shift_factor = 0.5"
   ]
  },
  {
   "cell_type": "code",
   "execution_count": 65,
   "metadata": {
    "code_folding": [
     0,
     4
    ]
   },
   "outputs": [],
   "source": [
    "def rockfall_matrix_gen(stoch_base_ER):    \n",
    "    rockfall_mat = np.empty((total_time,scenarios))\n",
    "    erosion_rates = [0] * scenarios\n",
    "    \n",
    "    for i in range(scenarios):\n",
    "        while True:\n",
    "            falls = scipy.stats.genpareto.rvs(c = 1, scale = stoch_base_ER * 0.1, size = total_time)\n",
    "            erosion_rate = np.sum(falls) / total_time\n",
    "\n",
    "            if erosion_rate > stoch_base_ER + (0.1 * stoch_base_ER):\n",
    "                move_on = False\n",
    "            elif erosion_rate < stoch_base_ER - (0.1 * stoch_base_ER):\n",
    "                move_on = False\n",
    "            else:\n",
    "                move_on = True\n",
    "\n",
    "            if move_on == True:\n",
    "                rockfall_mat[:,i] = falls\n",
    "\n",
    "                break\n",
    "        \n",
    "        erosion_rates[i] = erosion_rate\n",
    "        \n",
    "    return rockfall_mat, erosion_rates"
   ]
  },
  {
   "cell_type": "code",
   "execution_count": 1,
   "metadata": {
    "code_folding": [
     12,
     17
    ]
   },
   "outputs": [],
   "source": [
    "def erosion_export(stoch_base_ER):\n",
    "    rockfall_matrix, erosion_rates = rockfall_matrix_gen(stoch_base_ER)\n",
    "    \n",
    "    np.savetxt('D:/STEIN_paper/model_outputs/stochastic_erosion/erosion_sets/rockfall_matrix_' + str(stoch_base_ER) + '_' + str(time.strftime('%d-%m-%Y %H:%M:%S')[:10]) + '.csv',\n",
    "                       rockfall_matrix,\n",
    "                       delimiter = ',')\n",
    "    np.savetxt('D:/STEIN_paper/model_outputs/stochastic_erosion/erosion_sets/ER_list_' + str(stoch_base_ER) + '_' + str(time.strftime('%d-%m-%Y %H:%M:%S')[:10]) + '.csv',\n",
    "                       erosion_rates,\n",
    "                       delimiter = ',')\n",
    "    \n",
    "    read_in = open('D:/STEIN_paper/model_outputs/stochastic_erosion/erosion_sets/import_dates.csv')\n",
    "    myreader = csv.reader(read_in, delimiter = ',')\n",
    "    for row in myreader:\n",
    "        imp_list = row[:]\n",
    "    \n",
    "    imp_list.append(time.strftime('%d-%m-%Y %H:%M:%S')[:10])\n",
    "\n",
    "    with open('D:/STEIN_paper/model_outputs/stochastic_erosion/erosion_sets/import_dates.csv', 'w', newline='') as myfile:   \n",
    "         wr = csv.writer(myfile, quoting=csv.QUOTE_ALL)\n",
    "         wr.writerow(imp_list)\n",
    "    \n",
    "    read_in.close()\n",
    "    \n",
    "    return rockfall_matrix"
   ]
  },
  {
   "cell_type": "code",
   "execution_count": null,
   "metadata": {
    "code_folding": [
     0
    ]
   },
   "outputs": [],
   "source": [
    "# def old_rockfall_matrix_gen(rockfall_Mat):\n",
    "#     num_falls = int(total_time / stoch_fall_fq)\n",
    "    \n",
    "#     dist = np.random.pareto(1,total_time)\n",
    "#     depths = np.random.choice(dist, num_falls) + 0.75\n",
    "#     rockfall_Mat[:num_falls,1] = depths\n",
    "#     years = [0] * (num_falls)\n",
    "    \n",
    "#     for i in range(num_falls):\n",
    "#         years[i] = random.randint(1,total_time)\n",
    "    \n",
    "#     years = sorted(years, reverse = False)\n",
    "    \n",
    "#     no_dups = [0] * len(years)\n",
    "    \n",
    "#     for i in range(0,len(years)):\n",
    "#         if years[i] != years[i-1]:\n",
    "#             no_dups[i] = years[i]\n",
    "        \n",
    "        \n",
    "#     rockfall_Mat[:num_falls,0] = no_dups\n",
    "\n",
    "#     rockfall_Mat = rockfall_Mat[np.logical_not(rockfall_Mat[:,0] == 0)]\n",
    "#     rockfall_Mat[-1,:] = 0\n",
    "    \n",
    "#     return rockfall_Mat"
   ]
  }
 ],
 "metadata": {
  "kernelspec": {
   "display_name": "Python 3",
   "language": "python",
   "name": "python3"
  },
  "language_info": {
   "codemirror_mode": {
    "name": "ipython",
    "version": 3
   },
   "file_extension": ".py",
   "mimetype": "text/x-python",
   "name": "python",
   "nbconvert_exporter": "python",
   "pygments_lexer": "ipython3",
   "version": "3.7.1"
  }
 },
 "nbformat": 4,
 "nbformat_minor": 2
}
